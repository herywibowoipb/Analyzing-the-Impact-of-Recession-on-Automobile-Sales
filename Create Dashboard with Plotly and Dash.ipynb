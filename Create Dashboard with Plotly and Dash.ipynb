{
 "cells": [
  {
   "cell_type": "code",
   "execution_count": 1,
   "id": "bd3c4f32-3d12-4c85-b168-70f2406719ec",
   "metadata": {},
   "outputs": [],
   "source": [
    "import dash\n",
    "from dash import dcc, html\n",
    "from dash.dependencies import Input, Output\n",
    "import plotly.express as px\n",
    "import pandas as pd\n"
   ]
  },
  {
   "cell_type": "code",
   "execution_count": 2,
   "id": "ff415ced-c8e4-4712-ad46-8fddab05a2f6",
   "metadata": {},
   "outputs": [],
   "source": [
    "# Membaca data dari URL\n",
    "data_url = \"https://cf-courses-data.s3.us.cloud-object-storage.appdomain.cloud/IBMDeveloperSkillsNetwork-DV0101EN-SkillsNetwork/Data%20Files/historical_automobile_sales.csv\"\n",
    "data = pd.read_csv(data_url)\n",
    "\n",
    "# Ekstrak bulan dan tahun dari kolom Date\n",
    "data['Date'] = pd.to_datetime(data['Date'])\n",
    "data['Month'] = data['Date'].dt.month\n",
    "data['Year'] = data['Date'].dt.year\n"
   ]
  },
  {
   "cell_type": "code",
   "execution_count": 3,
   "id": "dfaf6a65-3c57-4192-b895-4c736226265e",
   "metadata": {},
   "outputs": [],
   "source": [
    "# Membuat Aplikasi Dash dan Memberi Judul\n",
    "\n",
    "app = dash.Dash(__name__)\n",
    "\n",
    "app.layout = html.Div([\n",
    "    html.H1(\"Automobile Sales Statistics Dashboard\",\n",
    "            style={'textAlign': 'center', 'color': '#503D36', 'font-size': 24}),\n",
    "    \n",
    "    # Dropdown untuk memilih jenis laporan\n",
    "    dcc.Dropdown(\n",
    "        id='dropdown-statistics',\n",
    "        options=[\n",
    "            {'label': 'Yearly Statistics', 'value': 'Yearly Statistics'},\n",
    "            {'label': 'Recession Period Statistics', 'value': 'Recession Period Statistics'}\n",
    "        ],\n",
    "        placeholder='Select a report type',\n",
    "        value='Select Statistics',\n",
    "        style={'width': '80%', 'padding': '3px', 'font-size': '20px', 'text-align-last': 'center'}\n",
    "    ),\n",
    "    \n",
    "    # Dropdown untuk memilih tahun\n",
    "    dcc.Dropdown(\n",
    "        id='select-year',\n",
    "        options=[{'label': i, 'value': i} for i in range(1980, 2024)],\n",
    "        placeholder='Select year',\n",
    "        style={'width': '80%', 'padding': '3px', 'font-size': '20px', 'text-align-last': 'center'}\n",
    "    ),\n",
    "    \n",
    "    # Div untuk menampilkan output\n",
    "    html.Div(id='output-container', className='chart-grid', style={'display': 'flex'})\n",
    "])"
   ]
  },
  {
   "cell_type": "code",
   "execution_count": 4,
   "id": "a655d7ad-25b8-409e-842c-7928fae6fdec",
   "metadata": {},
   "outputs": [],
   "source": [
    "# Membuat Callback untuk Mengaktifkan/Nonaktifkan Dropdown Tahun\n",
    "\n",
    "@app.callback(\n",
    "    Output(component_id='select-year', component_property='disabled'),\n",
    "    Input(component_id='dropdown-statistics', component_property='value')\n",
    ")\n",
    "def update_input_container(selected_statistics):\n",
    "    if selected_statistics == 'Yearly Statistics':\n",
    "        return False\n",
    "    else:\n",
    "        return True\n"
   ]
  },
  {
   "cell_type": "code",
   "execution_count": 5,
   "id": "6d755abc-cf1e-4099-8f57-50d8c8445958",
   "metadata": {},
   "outputs": [
    {
     "data": {
      "text/html": [
       "\n",
       "        <iframe\n",
       "            width=\"100%\"\n",
       "            height=\"650\"\n",
       "            src=\"http://127.0.0.1:8060/\"\n",
       "            frameborder=\"0\"\n",
       "            allowfullscreen\n",
       "            \n",
       "        ></iframe>\n",
       "        "
      ],
      "text/plain": [
       "<IPython.lib.display.IFrame at 0x2a3b81e25d0>"
      ]
     },
     "metadata": {},
     "output_type": "display_data"
    }
   ],
   "source": [
    "# Membuat Callback untuk Menghasilkan Grafik\n",
    "\n",
    "@app.callback(\n",
    "    Output(component_id='output-container', component_property='children'),\n",
    "    [Input(component_id='dropdown-statistics', component_property='value'),\n",
    "     Input(component_id='select-year', component_property='value')]\n",
    ")\n",
    "def update_output_container(selected_statistics, selected_year):\n",
    "    if selected_statistics == 'Recession Period Statistics':\n",
    "        recession_data = data[data['Recession'] == 1]\n",
    "\n",
    "        # Grafik 1: Penjualan mobil rata-rata per tahun selama periode resesi\n",
    "        yearly_rec = recession_data.groupby('Year')['Automobile_Sales'].mean().reset_index()\n",
    "        R_chart1 = dcc.Graph(\n",
    "            figure=px.line(yearly_rec, x='Year', y='Automobile_Sales', title=\"Penjualan Mobil Rata-rata per Tahun Selama Resesi\")\n",
    "        )\n",
    "\n",
    "        # Grafik 2: Rata-rata jumlah kendaraan terjual berdasarkan jenis kendaraan selama periode resesi\n",
    "        avg_sales = recession_data.groupby('Vehicle_Type')['Automobile_Sales'].mean().reset_index()\n",
    "        R_chart2 = dcc.Graph(\n",
    "            figure=px.bar(avg_sales, x='Vehicle_Type', y='Automobile_Sales', title=\"Rata-rata Jumlah Kendaraan Terjual Selama Resesi\")\n",
    "        )\n",
    "\n",
    "        # Grafik 3: Total bagian pengeluaran iklan berdasarkan jenis kendaraan selama periode resesi\n",
    "        ad_expenses = recession_data.groupby('Vehicle_Type')['Advertising_Expenditure'].sum().reset_index()\n",
    "        R_chart3 = dcc.Graph(\n",
    "            figure=px.pie(ad_expenses, names='Vehicle_Type', values='Advertising_Expenditure', title=\"Total Pengeluaran Iklan Selama Resesi\")\n",
    "        )\n",
    "\n",
    "        # Grafik 4: Efek tingkat pengangguran terhadap penjualan kendaraan selama resesi\n",
    "        unemployment_effect = px.bar(\n",
    "            recession_data, x='unemployment_rate', y='Automobile_Sales', color='Vehicle_Type', title=\"Efek Tingkat Pengangguran Terhadap Penjualan Kendaraan Selama Resesi\"\n",
    "        )\n",
    "        R_chart4 = dcc.Graph(figure=unemployment_effect)\n",
    "\n",
    "        return [\n",
    "            html.Div(className='chart-item', children=[R_chart1]),\n",
    "            html.Div(className='chart-item', children=[R_chart2]),\n",
    "            html.Div(className='chart-item', children=[R_chart3]),\n",
    "            html.Div(className='chart-item', children=[R_chart4])\n",
    "        ]\n",
    "\n",
    "    elif selected_statistics == 'Yearly Statistics' and selected_year:\n",
    "        year_data = data[data['Year'] == selected_year]\n",
    "\n",
    "        # Grafik 1: Total penjualan mobil bulanan untuk tahun yang dipilih\n",
    "        monthly_sales = year_data.groupby('Month')['Automobile_Sales'].sum().reset_index()\n",
    "        Y_chart1 = dcc.Graph(\n",
    "            figure=px.line(monthly_sales, x='Month', y='Automobile_Sales', title=f\"Total Penjualan Mobil Bulanan pada {selected_year}\")\n",
    "        )\n",
    "\n",
    "        # Grafik 2: Rata-rata jumlah kendaraan terjual berdasarkan jenis kendaraan pada tahun yang dipilih\n",
    "        avg_vehicle_sales = year_data.groupby('Vehicle_Type')['Automobile_Sales'].mean().reset_index()\n",
    "        Y_chart2 = dcc.Graph(\n",
    "            figure=px.bar(avg_vehicle_sales, x='Vehicle_Type', y='Automobile_Sales', title=f\"Rata-rata Jumlah Kendaraan Terjual pada {selected_year}\")\n",
    "        )\n",
    "\n",
    "        # Grafik 3: Total pengeluaran iklan untuk setiap jenis kendaraan pada tahun yang dipilih\n",
    "        yearly_ad_expenses = year_data.groupby('Vehicle_Type')['Advertising_Expenditure'].sum().reset_index()\n",
    "        Y_chart3 = dcc.Graph(\n",
    "            figure=px.pie(yearly_ad_expenses, names='Vehicle_Type', values='Advertising_Expenditure', title=f\"Total Pengeluaran Iklan pada {selected_year}\")\n",
    "        )\n",
    "\n",
    "        return [\n",
    "            html.Div(className='chart-item', children=[Y_chart1]),\n",
    "            html.Div(className='chart-item', children=[Y_chart2]),\n",
    "            html.Div(className='chart-item', children=[Y_chart3])\n",
    "        ]\n",
    "\n",
    "if __name__ == '__main__':\n",
    "    app.run_server(debug=True)\n"
   ]
  },
  {
   "cell_type": "code",
   "execution_count": null,
   "id": "d3a5ffda-1c3c-4796-b1e5-5f3ed10a5198",
   "metadata": {},
   "outputs": [],
   "source": []
  }
 ],
 "metadata": {
  "kernelspec": {
   "display_name": "Python 3 (ipykernel)",
   "language": "python",
   "name": "python3"
  },
  "language_info": {
   "codemirror_mode": {
    "name": "ipython",
    "version": 3
   },
   "file_extension": ".py",
   "mimetype": "text/x-python",
   "name": "python",
   "nbconvert_exporter": "python",
   "pygments_lexer": "ipython3",
   "version": "3.12.4"
  }
 },
 "nbformat": 4,
 "nbformat_minor": 5
}
